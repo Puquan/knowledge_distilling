{
 "cells": [
  {
   "cell_type": "code",
   "execution_count": 3,
   "id": "52195c93-0aaa-46c9-aefe-29a238201f59",
   "metadata": {
    "id": "52195c93-0aaa-46c9-aefe-29a238201f59"
   },
   "outputs": [],
   "source": [
    "import numpy as np\n",
    "import matplotlib.pyplot as plt\n",
    "%matplotlib inline\n",
    "from tqdm import tqdm\n",
    "import torch\n",
    "import torch.nn as nn\n",
    "import torch.optim as optim\n",
    "import torchvision\n",
    "import torchvision.datasets as datasets\n",
    "import torchvision.transforms as transforms\n",
    "from torch.utils.data import DataLoader\n",
    "import matplotlib.pyplot as plt\n",
    "import time"
   ]
  },
  {
   "cell_type": "markdown",
   "id": "47a6a962-1d78-4efb-94ba-096135420e77",
   "metadata": {
    "id": "47a6a962-1d78-4efb-94ba-096135420e77"
   },
   "source": [
    "## 1. SoftMax"
   ]
  },
  {
   "cell_type": "markdown",
   "id": "6b997695-0c67-4102-80bb-c61c752df589",
   "metadata": {
    "id": "6b997695-0c67-4102-80bb-c61c752df589"
   },
   "source": [
    "### 1.1 效果示例"
   ]
  },
  {
   "cell_type": "markdown",
   "id": "369c328c-3830-4b61-90f3-388ecfd1ad7c",
   "metadata": {
    "id": "369c328c-3830-4b61-90f3-388ecfd1ad7c"
   },
   "source": [
    "softmax 能把输出值转换成对应概率，output的所有entry相加的最终值为1\n",
    "\n",
    "即 T = 1 "
   ]
  },
  {
   "cell_type": "code",
   "execution_count": 4,
   "id": "e86a2db4-fbae-486a-a846-752402ac560e",
   "metadata": {
    "id": "e86a2db4-fbae-486a-a846-752402ac560e"
   },
   "outputs": [],
   "source": [
    "logits = np.array([-1,2,3,6])"
   ]
  },
  {
   "cell_type": "code",
   "execution_count": 5,
   "id": "5dba65d4-0f53-4188-9dec-dc275bfd8faf",
   "metadata": {
    "id": "5dba65d4-0f53-4188-9dec-dc275bfd8faf"
   },
   "outputs": [],
   "source": [
    "softmax_1 = np.exp(logits)/sum(np.exp(logits))"
   ]
  },
  {
   "cell_type": "code",
   "execution_count": 6,
   "id": "ed6bb99c-c37a-481f-a5cd-c2b49a0a6637",
   "metadata": {
    "colab": {
     "base_uri": "https://localhost:8080/"
    },
    "id": "ed6bb99c-c37a-481f-a5cd-c2b49a0a6637",
    "outputId": "49831c5e-9f68-4871-bf8a-93250f5fc44f"
   },
   "outputs": [
    {
     "data": {
      "text/plain": [
       "array([8.53011713e-04, 1.71331982e-02, 4.65728615e-02, 9.35440929e-01])"
      ]
     },
     "execution_count": 6,
     "metadata": {},
     "output_type": "execute_result"
    }
   ],
   "source": [
    "softmax_1"
   ]
  },
  {
   "cell_type": "code",
   "execution_count": 7,
   "id": "bd881f20-b43b-4f7a-a57f-8fd258439d8f",
   "metadata": {
    "colab": {
     "base_uri": "https://localhost:8080/"
    },
    "id": "bd881f20-b43b-4f7a-a57f-8fd258439d8f",
    "outputId": "c2afd4af-f1d0-4d5c-c30e-7c2aa66a837f"
   },
   "outputs": [
    {
     "name": "stdout",
     "output_type": "stream",
     "text": [
      "1.0\n"
     ]
    }
   ],
   "source": [
    "total = 0\n",
    "for i in softmax_1:\n",
    "    total += i\n",
    "print(total)"
   ]
  },
  {
   "cell_type": "code",
   "execution_count": 8,
   "id": "e02133ba-32c4-4d9d-a26f-0d321037bc04",
   "metadata": {
    "colab": {
     "base_uri": "https://localhost:8080/",
     "height": 265
    },
    "id": "e02133ba-32c4-4d9d-a26f-0d321037bc04",
    "outputId": "63814886-2200-4c94-ae21-73eda65643b6"
   },
   "outputs": [
    {
     "data": {
      "image/png": "[encoded data removed]",
      "text/plain": [
       "<Figure size 432x288 with 1 Axes>"
      ]
     },
     "metadata": {
      "needs_background": "light"
     },
     "output_type": "display_data"
    }
   ],
   "source": [
    "plt.plot(softmax_1,label=\"softmax_1\")\n",
    "plt.legend()\n",
    "plt.show()"
   ]
  },
  {
   "cell_type": "markdown",
   "id": "bb7a9a09-a13d-4aef-801b-cf379619925b",
   "metadata": {
    "id": "bb7a9a09-a13d-4aef-801b-cf379619925b"
   },
   "source": [
    "### 1.2 不同温度对应的softmax效果"
   ]
  },
  {
   "cell_type": "markdown",
   "id": "d9b75ad1-1b03-44af-9609-15d875967f80",
   "metadata": {
    "id": "d9b75ad1-1b03-44af-9609-15d875967f80"
   },
   "source": [
    "可以观察到，温度越大各个种类的输出结果趋于平均。"
   ]
  },
  {
   "cell_type": "code",
   "execution_count": 9,
   "id": "d30fe3a9-4ff0-481c-b903-f5bc8f60936e",
   "metadata": {
    "id": "d30fe3a9-4ff0-481c-b903-f5bc8f60936e"
   },
   "outputs": [],
   "source": [
    "def distill_softmax(logits,temperature):\n",
    "    output = np.exp(logits/temperature)/sum(np.exp(logits/temperature))\n",
    "    return output"
   ]
  },
  {
   "cell_type": "code",
   "execution_count": 10,
   "id": "d88452e0-6c51-4377-a40d-c5a9db329e51",
   "metadata": {
    "colab": {
     "base_uri": "https://localhost:8080/",
     "height": 265
    },
    "id": "d88452e0-6c51-4377-a40d-c5a9db329e51",
    "outputId": "1772ac10-530d-4425-fc1e-3e9685479b09"
   },
   "outputs": [
    {
     "data": {
      "image/png": "[encoded data removed]",
      "text/plain": [
       "<Figure size 432x288 with 1 Axes>"
      ]
     },
     "metadata": {
      "needs_background": "light"
     },
     "output_type": "display_data"
    }
   ],
   "source": [
    "plt.plot(softmax_1, label='T=1')\n",
    "\n",
    "softmax_3 = distill_softmax(logits,3)\n",
    "plt.plot(softmax_3, label='T=3')\n",
    "\n",
    "softmax_5 = distill_softmax(logits,5)\n",
    "plt.plot(softmax_5, label='T=5')\n",
    "\n",
    "softmax_10 = distill_softmax(logits,10)\n",
    "plt.plot(softmax_10, label='T=10')\n",
    "\n",
    "softmax_100 = distill_softmax(logits,100)\n",
    "plt.plot(softmax_100, label='T=100')\n",
    "\n",
    "\n",
    "plt.xticks(np.arange(4),['Cat','Dog','Monkey','Horse'])\n",
    "plt.legend()\n",
    "plt.show()"
   ]
  },
  {
   "cell_type": "markdown",
   "id": "40977db1-d34a-4b2a-9de5-d614807b581f",
   "metadata": {
    "id": "a70c311a-2d6a-47ae-b6e6-bfd4714a167c"
   },
   "source": [
    "## 2. 训练模型"
   ]
  },
  {
   "cell_type": "markdown",
   "id": "b379ebd9-55ac-4fb5-9ff3-1052d8c736d9",
   "metadata": {},
   "source": [
    "### 2.1 从零训练resnet18 "
   ]
  },
  {
   "cell_type": "code",
   "execution_count": 11,
   "id": "73cfd5e3-ed44-4e21-b106-d1ecee39f123",
   "metadata": {
    "colab": {
     "base_uri": "https://localhost:8080/",
     "height": 1000,
     "referenced_widgets": [
      "6a725a9c394e4a09a0e18c39cab33e36",
      "d411552a64dd463688a270de90b36df2",
      "ba9fc18062e8487aa443590a2d9e619e",
      "6fe33546c5944f02af9949a120cb506a",
      "5ee96a19d2d14281b820c7fc44c087cc",
      "2be7d514c11e4476b670410704c3aea0",
      "2573b821aac3424b975bca221706da4d",
      "ae22945b50dd4f30bf9e2c6d89a944be",
      "80dc6fbdfa8e429faf0905143effc3a7",
      "bbb52541be4346eeb37ad0c23e3e21b7",
      "4c9068b4d9934979a965e41ff38a63fb"
     ]
    },
    "id": "73cfd5e3-ed44-4e21-b106-d1ecee39f123",
    "outputId": "1282cf67-02f0-47e7-a909-eec51b222699"
   },
   "outputs": [
    {
     "name": "stdout",
     "output_type": "stream",
     "text": [
      "Downloading https://www.cs.toronto.edu/~kriz/cifar-10-python.tar.gz to ./data/cifar-10-python.tar.gz\n"
     ]
    },
    {
     "data": {
      "application/vnd.jupyter.widget-view+json": {
       "model_id": "6a725a9c394e4a09a0e18c39cab33e36",
       "version_major": 2,
       "version_minor": 0
      },
      "text/plain": [
       "  0%|          | 0/170498071 [00:00<?, ?it/s]"
      ]
     },
     "metadata": {},
     "output_type": "display_data"
    },
    {
     "name": "stdout",
     "output_type": "stream",
     "text": [
      "Extracting ./data/cifar-10-python.tar.gz to ./data\n",
      "Files already downloaded and verified\n"
     ]
    },
    {
     "name": "stderr",
     "output_type": "stream",
     "text": [
      "/usr/local/lib/python3.7/dist-packages/torchvision/models/_utils.py:209: UserWarning: The parameter 'pretrained' is deprecated since 0.13 and will be removed in 0.15, please use 'weights' instead.\n",
      "  f\"The parameter '{pretrained_param}' is deprecated since 0.13 and will be removed in 0.15, \"\n",
      "/usr/local/lib/python3.7/dist-packages/torchvision/models/_utils.py:223: UserWarning: Arguments other than a weight enum or `None` for 'weights' are deprecated since 0.13 and will be removed in 0.15. The current behavior is equivalent to passing `weights=None`.\n",
      "  warnings.warn(msg)\n"
     ]
    },
    {
     "name": "stdout",
     "output_type": "stream",
     "text": [
      "saved best model\n",
      "epoch: 0 \n",
      "Train Loss: 3.6563 \n",
      "Eval Loss: 2.6810 \n",
      "Train Acc: 0.3097 \n",
      "Eval Acc: 0.2949\n",
      "saved best model\n",
      "epoch: 1 \n",
      "Train Loss: 1.5453 \n",
      "Eval Loss: 1.4639 \n",
      "Train Acc: 0.4977 \n",
      "Eval Acc: 0.5035\n",
      "saved best model\n",
      "epoch: 2 \n",
      "Train Loss: 1.2305 \n",
      "Eval Loss: 1.3631 \n",
      "Train Acc: 0.5776 \n",
      "Eval Acc: 0.5228\n",
      "saved best model\n",
      "epoch: 3 \n",
      "Train Loss: 1.0231 \n",
      "Eval Loss: 1.3394 \n",
      "Train Acc: 0.6510 \n",
      "Eval Acc: 0.5403\n",
      "saved best model\n",
      "epoch: 4 \n",
      "Train Loss: 0.8221 \n",
      "Eval Loss: 1.3740 \n",
      "Train Acc: 0.7256 \n",
      "Eval Acc: 0.5471\n",
      "epoch: 5 \n",
      "Train Loss: 0.6127 \n",
      "Eval Loss: 1.4931 \n",
      "Train Acc: 0.8046 \n",
      "Eval Acc: 0.5290\n",
      "epoch: 6 \n",
      "Train Loss: 0.4080 \n",
      "Eval Loss: 1.5785 \n",
      "Train Acc: 0.8819 \n",
      "Eval Acc: 0.5428\n",
      "epoch: 7 \n",
      "Train Loss: 0.2336 \n",
      "Eval Loss: 1.6972 \n",
      "Train Acc: 0.9438 \n",
      "Eval Acc: 0.5376\n",
      "epoch: 8 \n",
      "Train Loss: 0.1168 \n",
      "Eval Loss: 1.8387 \n",
      "Train Acc: 0.9808 \n",
      "Eval Acc: 0.5416\n",
      "epoch: 9 \n",
      "Train Loss: 0.0551 \n",
      "Eval Loss: 1.9475 \n",
      "Train Acc: 0.9948 \n",
      "Eval Acc: 0.5392\n",
      "epoch: 10 \n",
      "Train Loss: 0.0265 \n",
      "Eval Loss: 2.0018 \n",
      "Train Acc: 0.9988 \n",
      "Eval Acc: 0.5401\n",
      "epoch: 11 \n",
      "Train Loss: 0.0138 \n",
      "Eval Loss: 2.0538 \n",
      "Train Acc: 1.0000 \n",
      "Eval Acc: 0.5426\n",
      "epoch: 12 \n",
      "Train Loss: 0.0093 \n",
      "Eval Loss: 2.0962 \n",
      "Train Acc: 1.0000 \n",
      "Eval Acc: 0.5426\n",
      "epoch: 13 \n",
      "Train Loss: 0.0067 \n",
      "Eval Loss: 2.1312 \n",
      "Train Acc: 1.0000 \n",
      "Eval Acc: 0.5431\n",
      "epoch: 14 \n",
      "Train Loss: 0.0055 \n",
      "Eval Loss: 2.1600 \n",
      "Train Acc: 1.0000 \n",
      "Eval Acc: 0.5448\n",
      "epoch: 15 \n",
      "Train Loss: 0.0046 \n",
      "Eval Loss: 2.1935 \n",
      "Train Acc: 1.0000 \n",
      "Eval Acc: 0.5430\n",
      "epoch: 16 \n",
      "Train Loss: 0.0040 \n",
      "Eval Loss: 2.2140 \n",
      "Train Acc: 1.0000 \n",
      "Eval Acc: 0.5451\n",
      "epoch: 17 \n",
      "Train Loss: 0.0034 \n",
      "Eval Loss: 2.2336 \n",
      "Train Acc: 1.0000 \n",
      "Eval Acc: 0.5438\n",
      "epoch: 18 \n",
      "Train Loss: 0.0030 \n",
      "Eval Loss: 2.2580 \n",
      "Train Acc: 1.0000 \n",
      "Eval Acc: 0.5445\n",
      "epoch: 19 \n",
      "Train Loss: 0.0028 \n",
      "Eval Loss: 2.2839 \n",
      "Train Acc: 1.0000 \n",
      "Eval Acc: 0.5433\n",
      "epoch: 20 \n",
      "Train Loss: 0.0024 \n",
      "Eval Loss: 2.2967 \n",
      "Train Acc: 1.0000 \n",
      "Eval Acc: 0.5442\n",
      "epoch: 21 \n",
      "Train Loss: 0.0022 \n",
      "Eval Loss: 2.3098 \n",
      "Train Acc: 1.0000 \n",
      "Eval Acc: 0.5458\n",
      "epoch: 22 \n",
      "Train Loss: 0.0020 \n",
      "Eval Loss: 2.3309 \n",
      "Train Acc: 1.0000 \n",
      "Eval Acc: 0.5446\n",
      "epoch: 23 \n",
      "Train Loss: 0.0019 \n",
      "Eval Loss: 2.3482 \n",
      "Train Acc: 1.0000 \n",
      "Eval Acc: 0.5438\n",
      "epoch: 24 \n",
      "Train Loss: 0.0017 \n",
      "Eval Loss: 2.3677 \n",
      "Train Acc: 1.0000 \n",
      "Eval Acc: 0.5430\n"
     ]
    }
   ],
   "source": [
    "#Resnet18\n",
    "import torch\n",
    "import torch.nn as nn\n",
    "import torch.optim as optim\n",
    "import torchvision\n",
    "import torchvision.datasets as datasets\n",
    "import torchvision.transforms as transforms\n",
    "from torch.utils.data import DataLoader\n",
    "import matplotlib.pyplot as plt\n",
    "import time\n",
    "\n",
    "\n",
    "# 超参数定义\n",
    "EPOCH = 25              # 训练epoch次数\n",
    "BATCH_SIZE = 1024        # 批训练的数量\n",
    "resnet18_train_losses = []\n",
    "resnet18_train_acces = []\n",
    "# 用数组保存每一轮迭代中，在测试数据上测试的损失值和精确度，也是为了通过画图展示出来。\n",
    "resnet18_eval_losses = []\n",
    "resnet18_eval_acces = []\n",
    "\n",
    "# MNIST数据集下载\n",
    "train_data = datasets.CIFAR10(root='./data',\n",
    "                         train=True,                         # 训练集\n",
    "                         transform=transforms.ToTensor(),    # 转换为Tensor并归一化[0~1]\n",
    "                         download=True\n",
    "                        )\n",
    "\n",
    "test_data = datasets.CIFAR10(root='./data',\n",
    "                        train=False,                         # 测试集\n",
    "                        transform=transforms.ToTensor(),     # 转换为Tensor并归一化[0~1]\n",
    "                        download=True\n",
    "                        )\n",
    "# Cifar-10的标签\n",
    "classes = ('plane', 'car', 'bird', 'cat', 'deer', 'dog', 'frog', 'horse', 'ship', 'truck')\n",
    "\n",
    "\n",
    "# 使用DataLoader进行分批  dataset: 传入的数据集 batch_size: 每个batch有多少个样本  shuffle: 在每个epoch开始的时候，对数据进行重新排序\n",
    "train_loader = DataLoader(dataset=train_data, batch_size=BATCH_SIZE, shuffle=True)\n",
    "test_loader = DataLoader(dataset=test_data, batch_size=BATCH_SIZE, shuffle=True)\n",
    "\n",
    "# ResNet Model\n",
    "model = torchvision.models.resnet18(pretrained=False) # 使用resnet18模型\n",
    "\n",
    "#损失函数:这里用交叉熵 = log_softmax和nll_loss的结合\n",
    "criterion = nn.CrossEntropyLoss()\n",
    "#优化器 这里用SGD\n",
    "optimizer = optim.Adam(model.parameters(), lr=1e-4)\n",
    "\n",
    "#device : GPU or CPU\n",
    "device = torch.device(\"cuda\" if torch.cuda.is_available() else \"cpu\")\n",
    "model.to(device) #将模型加载到相应设备中\n",
    "Total_acc = 0\n",
    "\n",
    "\n",
    "# 开始训练\n",
    "for epoch in range(EPOCH):\n",
    "    start_time = time.time() #记录当前时间\n",
    "    train_loss = 0\n",
    "    train_acc = 0\n",
    "    model.train()\n",
    "    for i, data in enumerate(train_loader, start=0):\n",
    "        # data里面包含图像数据（inputs）(tensor类型的）和标签（labels）(tensor类型）。\n",
    "        inputs, labels = data\n",
    "        # 将数据加载到相应设备中\n",
    "        inputs, labels = inputs.to(device), labels.to(device)\n",
    "        # 前向传播\n",
    "        outputs = model(inputs)\n",
    "        # 计算损失函数\n",
    "        loss = criterion(outputs, labels)\n",
    "        # 清空上一轮梯度\n",
    "        optimizer.zero_grad()\n",
    "        # 反向传播\n",
    "        loss.backward()\n",
    "        # 参数更新\n",
    "        optimizer.step()\n",
    "        train_loss += loss.item()\n",
    "\n",
    "        _, predicted = torch.max(outputs.data, 1)\n",
    "        total += labels.size(0)\n",
    "        num_correct = (predicted == labels).sum().item()\n",
    "        acc = num_correct / inputs.shape[0]\n",
    "        train_acc += acc\n",
    "\n",
    "    resnet18_train_losses.append(train_loss / len(train_loader))\n",
    "    resnet18_train_acces.append(train_acc / len(train_loader))\n",
    "\n",
    "    model.eval() #切换到测试模式\n",
    "    eval_loss = 0\n",
    "    eval_acc = 0\n",
    "    for data in test_loader:\n",
    "        images, labels = data\n",
    "        images, labels = images.to(device), labels.to(device)\n",
    "        # 前向传播\n",
    "        out = model(images)\n",
    "        loss = criterion(out, labels)\n",
    "        eval_loss += loss.item()\n",
    "        # 求出预测值索引  torch.max(input, dim) dim=1，行最大值\n",
    "        _, predicted = torch.max(out.data, 1)\n",
    "        num_correct = (predicted == labels).sum().item()\n",
    "        acc = num_correct / images.shape[0]\n",
    "        eval_acc += acc\n",
    "    \n",
    "    resnet18_eval_losses.append(eval_loss/len(test_loader))\n",
    "    resnet18_eval_acces.append((eval_acc/len(test_loader)))\n",
    "    if eval_acc > Total_acc:\n",
    "        torch.save(model, 'cifar10_resnet18.pt')\n",
    "        print(\"saved best model\")\n",
    "        Total_acc = eval_acc\n",
    "    \n",
    "    print('epoch: {} \\nTrain Loss: {:.4f} \\nEval Loss: {:.4f} \\nTrain Acc: {:.4f} \\nEval Acc: {:.4f}'\n",
    "          .format(epoch, \n",
    "                  train_loss / len(train_loader), \n",
    "                  eval_loss / len(test_loader), \n",
    "                  train_acc / len(train_loader),\n",
    "                  eval_acc / len(test_loader)))\n",
    "\n"
   ]
  },
  {
   "cell_type": "markdown",
   "id": "4db8c014-e223-4fdd-89e1-78aa82feaf01",
   "metadata": {},
   "source": [
    "#### 测试resnet18模型"
   ]
  },
  {
   "cell_type": "code",
   "execution_count": 12,
   "id": "kwYOOXYTX48Y",
   "metadata": {
    "colab": {
     "base_uri": "https://localhost:8080/"
    },
    "id": "kwYOOXYTX48Y",
    "outputId": "fc590f78-044e-48b2-e254-514c0e853c15"
   },
   "outputs": [
    {
     "name": "stdout",
     "output_type": "stream",
     "text": [
      "准确率:54.6900%\n"
     ]
    }
   ],
   "source": [
    "# 测试\n",
    "model = torch.load('cifar10_resnet18.pt') #加载模型\n",
    "model.eval() #切换到测试模式\n",
    "\n",
    "correct = 0\n",
    "total = 0\n",
    "\n",
    "for data in test_loader:\n",
    "    images, labels = data\n",
    "    images, labels = images.to(device), labels.to(device)\n",
    "    # 前向传播\n",
    "    out = model(images)\n",
    "    # 求出预测值索引  torch.max(input, dim) dim=1，行最大值\n",
    "    _, predicted = torch.max(out.data, 1)\n",
    "    total += labels.size(0)\n",
    "    correct += (predicted == labels).sum().item()\n",
    "\n",
    "#输出识别准确率\n",
    "print('准确率:{:.4f}%'.format(100 * correct / total))"
   ]
  },
  {
   "cell_type": "markdown",
   "id": "7518b031-2472-43d2-8f85-dcb1e7ebf531",
   "metadata": {},
   "source": [
    "#### 绘图"
   ]
  },
  {
   "cell_type": "code",
   "execution_count": 53,
   "id": "Z8Yqm5e-M162",
   "metadata": {
    "colab": {
     "base_uri": "https://localhost:8080/",
     "height": 295
    },
    "id": "Z8Yqm5e-M162",
    "outputId": "3685364a-fc70-4848-f259-043ded69976e"
   },
   "outputs": [
    {
     "data": {
      "image/png": "[encoded data removed]",
      "text/plain": [
       "<Figure size 432x288 with 1 Axes>"
      ]
     },
     "metadata": {
      "needs_background": "light"
     },
     "output_type": "display_data"
    }
   ],
   "source": [
    "import numpy as np\n",
    "#%matplotlib inline\n",
    "plt.plot(np.arange(len(resnet18_train_losses)), resnet18_train_losses, label=\"train_loss\") \n",
    "plt.title(\"Resnet18 Trainning Loss\") # 设置标题\n",
    "plt.xlabel(\"Epoch\") # 设置横轴名称\n",
    "plt.ylabel(\"Loss\") # 设置纵轴名称\n",
    "plt.legend() # 图例放置在左下角\n",
    "plt.savefig(\"./Resnet18_Trainning_Loss.jpg\")"
   ]
  },
  {
   "cell_type": "code",
   "execution_count": 65,
   "id": "iNMUClxKY4cW",
   "metadata": {
    "colab": {
     "base_uri": "https://localhost:8080/",
     "height": 295
    },
    "id": "iNMUClxKY4cW",
    "outputId": "c562d863-d8e9-4112-d4ec-8395e0d82832"
   },
   "outputs": [
    {
     "data": {
      "image/png": "[encoded data removed]",
      "text/plain": [
       "<Figure size 432x288 with 1 Axes>"
      ]
     },
     "metadata": {
      "needs_background": "light"
     },
     "output_type": "display_data"
    }
   ],
   "source": [
    "plt.plot(np.arange(len(resnet18_train_losses)), resnet18_train_losses,label=\"train loss\")\n",
    "plt.plot(np.arange(len(resnet18_eval_losses)), resnet18_eval_losses, label=\"eval loss\")\n",
    "plt.legend() #显示图例\n",
    "plt.xlabel('epoch')\n",
    "plt.title('Resnet18 Scratch Loss')\n",
    "plt.savefig(\"./Resnet18_Scratch_Loss.jpg\")"
   ]
  },
  {
   "cell_type": "code",
   "execution_count": 15,
   "id": "4tr5G9jKEKB8",
   "metadata": {
    "colab": {
     "base_uri": "https://localhost:8080/"
    },
    "id": "4tr5G9jKEKB8",
    "outputId": "d7f86973-72e6-4c6f-ec71-8067c2d71761"
   },
   "outputs": [
    {
     "data": {
      "text/plain": [
       "[0.2949258609693878,\n",
       " 0.5034538424744899,\n",
       " 0.5227578922193878,\n",
       " 0.5403280452806122,\n",
       " 0.5471161511479592,\n",
       " 0.5289700255102041,\n",
       " 0.5427893813775511,\n",
       " 0.5375837053571428,\n",
       " 0.541617506377551,\n",
       " 0.5391960299744898,\n",
       " 0.5400888871173469,\n",
       " 0.542562181122449,\n",
       " 0.5426319355867346,\n",
       " 0.5430703922193878,\n",
       " 0.5448022959183674,\n",
       " 0.5429567920918368,\n",
       " 0.5450733418367346,\n",
       " 0.5437599649234695,\n",
       " 0.5444874043367347,\n",
       " 0.543311543367347,\n",
       " 0.544172512755102,\n",
       " 0.5457928093112245,\n",
       " 0.5445870535714286,\n",
       " 0.5437699298469388,\n",
       " 0.5429508131377551]"
      ]
     },
     "execution_count": 15,
     "metadata": {},
     "output_type": "execute_result"
    }
   ],
   "source": [
    "resnet18_eval_acces"
   ]
  },
  {
   "cell_type": "code",
   "execution_count": 66,
   "id": "48OzHSD6ajSU",
   "metadata": {
    "colab": {
     "base_uri": "https://localhost:8080/",
     "height": 295
    },
    "id": "48OzHSD6ajSU",
    "outputId": "60b62f96-dc2f-4bb5-e2a3-686b692ddb93"
   },
   "outputs": [
    {
     "data": {
      "image/png": "[encoded data removed]",
      "text/plain": [
       "<Figure size 432x288 with 1 Axes>"
      ]
     },
     "metadata": {
      "needs_background": "light"
     },
     "output_type": "display_data"
    }
   ],
   "source": [
    "plt.plot(np.arange(len(resnet18_train_acces)), resnet18_train_acces, label=\"train acc\")\n",
    "plt.plot(np.arange(len(resnet18_eval_acces)), resnet18_eval_acces, label=\"eval acc\")\n",
    "plt.legend() #显示图例\n",
    "plt.xlabel('epoch')\n",
    "plt.title('Resnet18 Scratch Accuracy')\n",
    "plt.savefig(\"./Resnet18_Scratch_Accuracy.jpg\")"
   ]
  },
  {
   "cell_type": "markdown",
   "id": "534eac5e-82ec-480f-b67d-36f6efe8a2f0",
   "metadata": {},
   "source": [
    "### 2.2 迁移学习resnet50"
   ]
  },
  {
   "cell_type": "code",
   "execution_count": 17,
   "id": "82b1ca06-74d1-4bd1-87bf-2689fc39d74f",
   "metadata": {
    "colab": {
     "base_uri": "https://localhost:8080/",
     "height": 1000,
     "referenced_widgets": [
      "0eab28b8b01c4f5ab976b41b585c5942",
      "7fd8662569da4f6784908879d9a5eb67",
      "1f6f76e563e24fe482c99cecd7014a23",
      "a994c397c7fe4945a1502d6c3ad11531",
      "e51a495b0f504a16b0f154bec2df8cbd",
      "7cfc8d8161aa4480aaa714329290d6f4",
      "7501519427d042ee9133a2e6b2e6722f",
      "b5856d46e9064a6b9b7a8fba37afdd41",
      "8d835b09e0ab499ca6a2b4ec003718af",
      "54a474cfae7b48b09a6b2b494b7e27ab",
      "9316f67811fc415195f2d21d5d2210f5"
     ]
    },
    "id": "82b1ca06-74d1-4bd1-87bf-2689fc39d74f",
    "outputId": "f8aa13e8-8a2b-404a-93cf-390b142de3a4"
   },
   "outputs": [
    {
     "name": "stdout",
     "output_type": "stream",
     "text": [
      "Files already downloaded and verified\n",
      "Files already downloaded and verified\n"
     ]
    },
    {
     "name": "stderr",
     "output_type": "stream",
     "text": [
      "/usr/local/lib/python3.7/dist-packages/torchvision/models/_utils.py:209: UserWarning: The parameter 'pretrained' is deprecated since 0.13 and will be removed in 0.15, please use 'weights' instead.\n",
      "  f\"The parameter '{pretrained_param}' is deprecated since 0.13 and will be removed in 0.15, \"\n",
      "/usr/local/lib/python3.7/dist-packages/torchvision/models/_utils.py:223: UserWarning: Arguments other than a weight enum or `None` for 'weights' are deprecated since 0.13 and will be removed in 0.15. The current behavior is equivalent to passing `weights=ResNet50_Weights.IMAGENET1K_V1`. You can also use `weights=ResNet50_Weights.DEFAULT` to get the most up-to-date weights.\n",
      "  warnings.warn(msg)\n",
      "Downloading: \"https://download.pytorch.org/models/resnet50-0676ba61.pth\" to /root/.cache/torch/hub/checkpoints/resnet50-0676ba61.pth\n"
     ]
    },
    {
     "data": {
      "application/vnd.jupyter.widget-view+json": {
       "model_id": "0eab28b8b01c4f5ab976b41b585c5942",
       "version_major": 2,
       "version_minor": 0
      },
      "text/plain": [
       "  0%|          | 0.00/97.8M [00:00<?, ?B/s]"
      ]
     },
     "metadata": {},
     "output_type": "display_data"
    },
    {
     "name": "stdout",
     "output_type": "stream",
     "text": [
      "saved best model\n",
      "epoch: 0 \n",
      "Train Loss: 3.4451 \n",
      "Eval Loss: 1.2777 \n",
      "Train Acc: 0.3838 \n",
      "Eval Acc: 0.6172\n",
      "saved best model\n",
      "epoch: 1 \n",
      "Train Loss: 0.8538 \n",
      "Eval Loss: 0.8495 \n",
      "Train Acc: 0.7151 \n",
      "Eval Acc: 0.7207\n",
      "saved best model\n",
      "epoch: 2 \n",
      "Train Loss: 0.5062 \n",
      "Eval Loss: 0.8261 \n",
      "Train Acc: 0.8317 \n",
      "Eval Acc: 0.7397\n",
      "epoch: 3 \n",
      "Train Loss: 0.2535 \n",
      "Eval Loss: 0.9241 \n",
      "Train Acc: 0.9234 \n",
      "Eval Acc: 0.7388\n",
      "epoch: 4 \n",
      "Train Loss: 0.0931 \n",
      "Eval Loss: 1.1521 \n",
      "Train Acc: 0.9758 \n",
      "Eval Acc: 0.7378\n",
      "saved best model\n",
      "epoch: 5 \n",
      "Train Loss: 0.0388 \n",
      "Eval Loss: 1.2768 \n",
      "Train Acc: 0.9917 \n",
      "Eval Acc: 0.7416\n",
      "saved best model\n",
      "epoch: 6 \n",
      "Train Loss: 0.0186 \n",
      "Eval Loss: 1.3513 \n",
      "Train Acc: 0.9963 \n",
      "Eval Acc: 0.7463\n",
      "saved best model\n",
      "epoch: 7 \n",
      "Train Loss: 0.0102 \n",
      "Eval Loss: 1.4295 \n",
      "Train Acc: 0.9981 \n",
      "Eval Acc: 0.7503\n",
      "epoch: 8 \n",
      "Train Loss: 0.0071 \n",
      "Eval Loss: 1.4926 \n",
      "Train Acc: 0.9988 \n",
      "Eval Acc: 0.7490\n",
      "epoch: 9 \n",
      "Train Loss: 0.0089 \n",
      "Eval Loss: 1.4900 \n",
      "Train Acc: 0.9981 \n",
      "Eval Acc: 0.7494\n",
      "epoch: 10 \n",
      "Train Loss: 0.0056 \n",
      "Eval Loss: 1.5647 \n",
      "Train Acc: 0.9991 \n",
      "Eval Acc: 0.7460\n",
      "epoch: 11 \n",
      "Train Loss: 0.0043 \n",
      "Eval Loss: 1.6080 \n",
      "Train Acc: 0.9993 \n",
      "Eval Acc: 0.7483\n",
      "epoch: 12 \n",
      "Train Loss: 0.0057 \n",
      "Eval Loss: 1.6947 \n",
      "Train Acc: 0.9986 \n",
      "Eval Acc: 0.7494\n",
      "epoch: 13 \n",
      "Train Loss: 0.0452 \n",
      "Eval Loss: 1.5994 \n",
      "Train Acc: 0.9853 \n",
      "Eval Acc: 0.7438\n",
      "saved best model\n",
      "epoch: 14 \n",
      "Train Loss: 0.1821 \n",
      "Eval Loss: 1.0464 \n",
      "Train Acc: 0.9379 \n",
      "Eval Acc: 0.7522\n",
      "saved best model\n",
      "epoch: 15 \n",
      "Train Loss: 0.0918 \n",
      "Eval Loss: 1.1282 \n",
      "Train Acc: 0.9690 \n",
      "Eval Acc: 0.7628\n",
      "saved best model\n",
      "epoch: 16 \n",
      "Train Loss: 0.0310 \n",
      "Eval Loss: 1.2846 \n",
      "Train Acc: 0.9899 \n",
      "Eval Acc: 0.7700\n",
      "saved best model\n",
      "epoch: 17 \n",
      "Train Loss: 0.0122 \n",
      "Eval Loss: 1.3625 \n",
      "Train Acc: 0.9964 \n",
      "Eval Acc: 0.7747\n",
      "saved best model\n",
      "epoch: 18 \n",
      "Train Loss: 0.0054 \n",
      "Eval Loss: 1.4160 \n",
      "Train Acc: 0.9985 \n",
      "Eval Acc: 0.7751\n",
      "epoch: 19 \n",
      "Train Loss: 0.0031 \n",
      "Eval Loss: 1.4654 \n",
      "Train Acc: 0.9992 \n",
      "Eval Acc: 0.7751\n",
      "saved best model\n",
      "epoch: 20 \n",
      "Train Loss: 0.0023 \n",
      "Eval Loss: 1.4679 \n",
      "Train Acc: 0.9995 \n",
      "Eval Acc: 0.7768\n",
      "saved best model\n",
      "epoch: 21 \n",
      "Train Loss: 0.0020 \n",
      "Eval Loss: 1.4966 \n",
      "Train Acc: 0.9996 \n",
      "Eval Acc: 0.7784\n",
      "epoch: 22 \n",
      "Train Loss: 0.0009 \n",
      "Eval Loss: 1.5187 \n",
      "Train Acc: 0.9999 \n",
      "Eval Acc: 0.7772\n",
      "epoch: 23 \n",
      "Train Loss: 0.0006 \n",
      "Eval Loss: 1.5458 \n",
      "Train Acc: 0.9999 \n",
      "Eval Acc: 0.7774\n",
      "epoch: 24 \n",
      "Train Loss: 0.0012 \n",
      "Eval Loss: 1.5410 \n",
      "Train Acc: 0.9998 \n",
      "Eval Acc: 0.7781\n"
     ]
    }
   ],
   "source": [
    "#Resnet50 with pretrain\n",
    "import torch\n",
    "import torch.nn as nn\n",
    "import torch.optim as optim\n",
    "import torchvision\n",
    "import torchvision.datasets as datasets\n",
    "import torchvision.transforms as transforms\n",
    "from torch.utils.data import DataLoader\n",
    "import matplotlib.pyplot as plt\n",
    "import time\n",
    "\n",
    "\n",
    "# 超参数定义\n",
    "EPOCH = 25              # 训练epoch次数\n",
    "BATCH_SIZE = 1024         # 批训练的数量\n",
    "\n",
    "resnet50_train_losses = []\n",
    "resnet50_train_acces = []\n",
    "resnet50_eval_losses = []\n",
    "resnet50_eval_acces = []\n",
    "\n",
    "# MNIST数据集下载\n",
    "train_data = datasets.CIFAR10(root='./data',\n",
    "                         train=True,                         # 训练集\n",
    "                         transform=transforms.ToTensor(),    # 转换为Tensor并归一化[0~1]\n",
    "                         download=True\n",
    "                        )\n",
    "\n",
    "test_data = datasets.CIFAR10(root='./data',\n",
    "                        train=False,                         # 测试集\n",
    "                        transform=transforms.ToTensor(),     # 转换为Tensor并归一化[0~1]\n",
    "                        download=True\n",
    "                        )\n",
    "# Cifar-10的标签\n",
    "classes = ('plane', 'car', 'bird', 'cat', 'deer', 'dog', 'frog', 'horse', 'ship', 'truck')\n",
    "\n",
    "\n",
    "# 使用DataLoader进行分批  dataset: 传入的数据集 batch_size: 每个batch有多少个样本  shuffle: 在每个epoch开始的时候，对数据进行重新排序\n",
    "train_loader = DataLoader(dataset=train_data, batch_size=BATCH_SIZE, shuffle=True)\n",
    "test_loader = DataLoader(dataset=test_data, batch_size=BATCH_SIZE, shuffle=True)\n",
    "\n",
    "# ResNet Model\n",
    "model = torchvision.models.resnet50(pretrained=True) # 使用resnet18模型\n",
    "\n",
    "#损失函数:这里用交叉熵 = log_softmax和nll_loss的结合\n",
    "criterion = nn.CrossEntropyLoss()\n",
    "#优化器 这里用SGD\n",
    "optimizer = optim.Adam(model.parameters(), lr=1e-4)\n",
    "\n",
    "#device : GPU or CPU\n",
    "device = torch.device(\"cuda\" if torch.cuda.is_available() else \"cpu\")\n",
    "model.to(device) #将模型加载到相应设备中\n",
    "Total_acc = 0\n",
    "\n",
    "\n",
    "# 开始训练\n",
    "for epoch in range(EPOCH):\n",
    "    start_time = time.time() #记录当前时间\n",
    "    train_loss = 0\n",
    "    train_acc = 0\n",
    "    model.train()\n",
    "    for i, data in enumerate(train_loader, start=0):\n",
    "        # data里面包含图像数据（inputs）(tensor类型的）和标签（labels）(tensor类型）。\n",
    "        inputs, labels = data\n",
    "        # 将数据加载到相应设备中\n",
    "        inputs, labels = inputs.to(device), labels.to(device)\n",
    "        # 前向传播\n",
    "        outputs = model(inputs)\n",
    "        # 计算损失函数\n",
    "        loss = criterion(outputs, labels)\n",
    "        # 清空上一轮梯度\n",
    "        optimizer.zero_grad()\n",
    "        # 反向传播\n",
    "        loss.backward()\n",
    "        # 参数更新\n",
    "        optimizer.step()\n",
    "        train_loss += loss.item()\n",
    "\n",
    "        _, predicted = torch.max(outputs.data, 1)\n",
    "        total += labels.size(0)\n",
    "        num_correct = (predicted == labels).sum().item()\n",
    "        acc = num_correct / inputs.shape[0]\n",
    "        train_acc += acc\n",
    "\n",
    "    resnet50_train_losses.append(train_loss / len(train_loader))\n",
    "    resnet50_train_acces.append(train_acc / len(train_loader))\n",
    "\n",
    "    model.eval() #切换到测试模式\n",
    "    eval_loss = 0\n",
    "    eval_acc = 0\n",
    "    for data in test_loader:\n",
    "        images, labels = data\n",
    "        images, labels = images.to(device), labels.to(device)\n",
    "        # 前向传播\n",
    "        out = model(images)\n",
    "        loss = criterion(out, labels)\n",
    "        eval_loss += loss.item()\n",
    "        # 求出预测值索引  torch.max(input, dim) dim=1，行最大值\n",
    "        _, predicted = torch.max(out.data, 1)\n",
    "        num_correct = (predicted == labels).sum().item()\n",
    "        acc = num_correct / images.shape[0]\n",
    "        eval_acc += acc\n",
    "    \n",
    "    resnet50_eval_losses.append(eval_loss/len(test_loader))\n",
    "    resnet50_eval_acces.append((eval_acc/len(test_loader)))\n",
    "    if eval_acc > Total_acc:\n",
    "        torch.save(model, 'cifar10_resnet50_pretrain.pt')\n",
    "        print(\"saved best model\")\n",
    "        Total_acc = eval_acc\n",
    "    \n",
    "    print('epoch: {} \\nTrain Loss: {:.4f} \\nEval Loss: {:.4f} \\nTrain Acc: {:.4f} \\nEval Acc: {:.4f}'\n",
    "          .format(epoch, \n",
    "                  train_loss / len(train_loader), \n",
    "                  eval_loss / len(test_loader), \n",
    "                  train_acc / len(train_loader),\n",
    "                  eval_acc / len(test_loader)))\n",
    "\n"
   ]
  },
  {
   "cell_type": "code",
   "execution_count": null,
   "id": "alqiBtpk_pPX",
   "metadata": {
    "colab": {
     "base_uri": "https://localhost:8080/",
     "height": 196
    },
    "id": "alqiBtpk_pPX",
    "outputId": "cb70333b-0bc4-4228-a943-e48e6ecbb5b3"
   },
   "outputs": [],
   "source": [
    "\"\"\"\n",
    "#Resnet50 without pretrain\n",
    "import torch\n",
    "import torch.nn as nn\n",
    "import torch.optim as optim\n",
    "import torchvision\n",
    "import torchvision.datasets as datasets\n",
    "import torchvision.transforms as transforms\n",
    "from torch.utils.data import DataLoader\n",
    "import matplotlib.pyplot as plt\n",
    "import time\n",
    "\n",
    "\n",
    "# 超参数定义\n",
    "EPOCH = 25              # 训练epoch次数\n",
    "BATCH_SIZE = 1024         # 批训练的数量\n",
    "\n",
    "resnet50_train_losses = []\n",
    "resnet50_train_acces = []\n",
    "resnet50_eval_losses = []\n",
    "resnet50_eval_acces = []\n",
    "\n",
    "# MNIST数据集下载\n",
    "train_data = datasets.CIFAR10(root='./data',\n",
    "                         train=True,                         # 训练集\n",
    "                         transform=transforms.ToTensor(),    # 转换为Tensor并归一化[0~1]\n",
    "                         download=True\n",
    "                        )\n",
    "\n",
    "test_data = datasets.CIFAR10(root='./data',\n",
    "                        train=False,                         # 测试集\n",
    "                        transform=transforms.ToTensor(),     # 转换为Tensor并归一化[0~1]\n",
    "                        download=True\n",
    "                        )\n",
    "# Cifar-10的标签\n",
    "classes = ('plane', 'car', 'bird', 'cat', 'deer', 'dog', 'frog', 'horse', 'ship', 'truck')\n",
    "\n",
    "\n",
    "# 使用DataLoader进行分批  dataset: 传入的数据集 batch_size: 每个batch有多少个样本  shuffle: 在每个epoch开始的时候，对数据进行重新排序\n",
    "train_loader = DataLoader(dataset=train_data, batch_size=BATCH_SIZE, shuffle=True)\n",
    "test_loader = DataLoader(dataset=test_data, batch_size=BATCH_SIZE, shuffle=True)\n",
    "\n",
    "# ResNet Model\n",
    "model = torchvision.models.resnet50(pretrained=True) # 使用resnet18模型\n",
    "\n",
    "#损失函数:这里用交叉熵 = log_softmax和nll_loss的结合\n",
    "criterion = nn.CrossEntropyLoss()\n",
    "#优化器 这里用SGD\n",
    "optimizer = optim.Adam(model.parameters(), lr=1e-4)\n",
    "\n",
    "#device : GPU or CPU\n",
    "device = torch.device(\"cuda\" if torch.cuda.is_available() else \"cpu\")\n",
    "model.to(device) #将模型加载到相应设备中\n",
    "Total_acc = 0\n",
    "\n",
    "\n",
    "# 开始训练\n",
    "for epoch in range(EPOCH):\n",
    "    start_time = time.time() #记录当前时间\n",
    "    train_loss = 0\n",
    "    train_acc = 0\n",
    "    model.train()\n",
    "    for i, data in enumerate(train_loader, start=0):\n",
    "        # data里面包含图像数据（inputs）(tensor类型的）和标签（labels）(tensor类型）。\n",
    "        inputs, labels = data\n",
    "        # 将数据加载到相应设备中\n",
    "        inputs, labels = inputs.to(device), labels.to(device)\n",
    "        # 前向传播\n",
    "        outputs = model(inputs)\n",
    "        # 计算损失函数\n",
    "        loss = criterion(outputs, labels)\n",
    "        # 清空上一轮梯度\n",
    "        optimizer.zero_grad()\n",
    "        # 反向传播\n",
    "        loss.backward()\n",
    "        # 参数更新\n",
    "        optimizer.step()\n",
    "        train_loss += loss.item()\n",
    "\n",
    "        _, predicted = torch.max(outputs.data, 1)\n",
    "        total += labels.size(0)\n",
    "        num_correct = (predicted == labels).sum().item()\n",
    "        acc = num_correct / inputs.shape[0]\n",
    "        train_acc += acc\n",
    "\n",
    "    resnet50_train_losses.append(train_loss / len(train_loader))\n",
    "    resnet50_train_acces.append(train_acc / len(train_loader))\n",
    "\n",
    "    model.eval() #切换到测试模式\n",
    "    eval_loss = 0\n",
    "    eval_acc = 0\n",
    "    for data in test_loader:\n",
    "        images, labels = data\n",
    "        images, labels = images.to(device), labels.to(device)\n",
    "        # 前向传播\n",
    "        out = model(images)\n",
    "        loss = criterion(out, labels)\n",
    "        eval_loss += loss.item()\n",
    "        # 求出预测值索引  torch.max(input, dim) dim=1，行最大值\n",
    "        _, predicted = torch.max(out.data, 1)\n",
    "        num_correct = (predicted == labels).sum().item()\n",
    "        acc = num_correct / images.shape[0]\n",
    "        eval_acc += acc\n",
    "    \n",
    "    resnet50_eval_losses.append(eval_loss/len(test_loader))\n",
    "    resnet50_eval_acces.append((eval_acc/len(test_loader)))\n",
    "    if eval_acc > Total_acc:\n",
    "        torch.save(model, 'cifar10_resnet50.pt')\n",
    "        print(\"saved best model\")\n",
    "        Total_acc = eval_acc\n",
    "    \n",
    "    print('epoch: {} \\nTrain Loss: {:.4f} \\nEval Loss: {:.4f} \\nTrain Acc: {:.4f} \\nEval Acc: {:.4f}'\n",
    "          .format(epoch, \n",
    "                  train_loss / len(train_loader), \n",
    "                  eval_loss / len(test_loader), \n",
    "                  train_acc / len(train_loader),\n",
    "                  eval_acc / len(test_loader)))\n",
    "\n",
    "\"\"\""
   ]
  },
  {
   "cell_type": "markdown",
   "id": "209c1478-dc77-413e-bfbd-fb5297484ef5",
   "metadata": {},
   "source": [
    "#### 测试模型"
   ]
  },
  {
   "cell_type": "code",
   "execution_count": 20,
   "id": "gA9Hm5q85sVn",
   "metadata": {
    "colab": {
     "base_uri": "https://localhost:8080/"
    },
    "id": "gA9Hm5q85sVn",
    "outputId": "9b34ba34-c131-4961-a9eb-52de4c7ce169"
   },
   "outputs": [
    {
     "name": "stdout",
     "output_type": "stream",
     "text": [
      "10000测试图像 准确率:77.8500%\n"
     ]
    }
   ],
   "source": [
    "model = torch.load('cifar10_resnet50_pretrain.pt') #加载模型\n",
    "model.eval() #切换到测试模式\n",
    "\n",
    "correct = 0\n",
    "total = 0\n",
    "\n",
    "for data in test_loader:\n",
    "    images, labels = data\n",
    "    images, labels = images.to(device), labels.to(device)\n",
    "    # 前向传播\n",
    "    out = model(images)\n",
    "    # 求出预测值索引  torch.max(input, dim) dim=1，行最大值\n",
    "    _, predicted = torch.max(out.data, 1)\n",
    "    total += labels.size(0)\n",
    "    correct += (predicted == labels).sum().item()\n",
    "\n",
    "#输出识别准确率\n",
    "print('10000测试图像 准确率:{:.4f}%'.format(100 * correct / total))"
   ]
  },
  {
   "cell_type": "markdown",
   "id": "f2fb7710-dd30-4a8d-af37-21e75a186091",
   "metadata": {},
   "source": [
    "#### 绘图"
   ]
  },
  {
   "cell_type": "code",
   "execution_count": 64,
   "id": "vXuFmJa8cHNl",
   "metadata": {
    "colab": {
     "base_uri": "https://localhost:8080/",
     "height": 295
    },
    "id": "vXuFmJa8cHNl",
    "outputId": "68b3cfea-4b2b-41fe-eeff-fd788456d939"
   },
   "outputs": [
    {
     "data": {
      "image/png": "[encoded data removed]",
      "text/plain": [
       "<Figure size 432x288 with 1 Axes>"
      ]
     },
     "metadata": {
      "needs_background": "light"
     },
     "output_type": "display_data"
    }
   ],
   "source": [
    "plt.plot(np.arange(len(resnet50_train_losses)), resnet50_train_losses,label=\"train loss\")\n",
    "plt.plot(np.arange(len(resnet50_eval_losses)), resnet50_eval_losses, label=\"eval loss\")\n",
    "plt.legend() #显示图例\n",
    "plt.xlabel('epoch')\n",
    "plt.title('Resnet50 Loss(Pretrained)')\n",
    "plt.savefig(\"./Resnet50_Loss(Pretrained).jpg\")"
   ]
  },
  {
   "cell_type": "code",
   "execution_count": 63,
   "id": "qkCIh4OPcKyv",
   "metadata": {
    "colab": {
     "base_uri": "https://localhost:8080/",
     "height": 295
    },
    "id": "qkCIh4OPcKyv",
    "outputId": "679157a6-1a11-4fe4-a138-4e109cafe05b"
   },
   "outputs": [
    {
     "data": {
      "image/png": "[encoded data removed]",
      "text/plain": [
       "<Figure size 432x288 with 1 Axes>"
      ]
     },
     "metadata": {
      "needs_background": "light"
     },
     "output_type": "display_data"
    }
   ],
   "source": [
    "plt.plot(np.arange(len(resnet50_train_acces)), resnet50_train_acces, label=\"train acc\")\n",
    "plt.plot(np.arange(len(resnet50_eval_acces)), resnet50_eval_acces, label=\"eval acc\")\n",
    "plt.legend() #显示图例\n",
    "plt.xlabel('epoch')\n",
    "plt.title('Resnet50 Accuracy(Pretrained)')\n",
    "plt.savefig(\"./Resnet50_Accuracy(Pretrained).jpg\")"
   ]
  },
  {
   "cell_type": "markdown",
   "id": "C583o-sHdJ03",
   "metadata": {
    "id": "C583o-sHdJ03"
   },
   "source": [
    "## 3. 知识蒸馏\n",
    "\n",
    "教师模型：resnet50_pretrain with 25 epoch 1e-4 lr\n",
    "\n",
    "学生模型：resnet18_scratch"
   ]
  },
  {
   "cell_type": "markdown",
   "id": "s5TSnLayCZ4v",
   "metadata": {
    "id": "s5TSnLayCZ4v"
   },
   "source": [
    "**结果对比:**\n",
    "\n",
    "- resnet18 from scratch (epoch=25, lr=1e-4): 54.56%\n",
    "\n",
    "- resnet50 with pretrain (epoch=25, lr=1e-4): 78.57%\n",
    "\n",
    "- resnet18 with pretrained resnet50 distillation (epoch=25, lr=1e-3): 70.74%"
   ]
  },
  {
   "cell_type": "code",
   "execution_count": 47,
   "id": "329617a1-676d-4e31-b89a-6988bd1d3805",
   "metadata": {
    "colab": {
     "base_uri": "https://localhost:8080/"
    },
    "id": "329617a1-676d-4e31-b89a-6988bd1d3805",
    "outputId": "57338161-9438-434e-d89e-f54df4685670"
   },
   "outputs": [
    {
     "name": "stderr",
     "output_type": "stream",
     "text": [
      "/usr/local/lib/python3.7/dist-packages/torchvision/models/_utils.py:209: UserWarning: The parameter 'pretrained' is deprecated since 0.13 and will be removed in 0.15, please use 'weights' instead.\n",
      "  f\"The parameter '{pretrained_param}' is deprecated since 0.13 and will be removed in 0.15, \"\n",
      "/usr/local/lib/python3.7/dist-packages/torchvision/models/_utils.py:223: UserWarning: Arguments other than a weight enum or `None` for 'weights' are deprecated since 0.13 and will be removed in 0.15. The current behavior is equivalent to passing `weights=None`.\n",
      "  warnings.warn(msg)\n"
     ]
    },
    {
     "name": "stdout",
     "output_type": "stream",
     "text": [
      "saved best model\n",
      "epoch: 0 \n",
      "Train Loss: 3.2925 \n",
      "Eval Loss: 4.5967 \n",
      "Train Acc: 0.4671 \n",
      "Eval Acc: 0.2751\n",
      "saved best model\n",
      "epoch: 1 \n",
      "Train Loss: 2.3022 \n",
      "Eval Loss: 2.0372 \n",
      "Train Acc: 0.6197 \n",
      "Eval Acc: 0.5775\n",
      "epoch: 2 \n",
      "Train Loss: 1.9292 \n",
      "Eval Loss: 2.4317 \n",
      "Train Acc: 0.6976 \n",
      "Eval Acc: 0.5540\n",
      "saved best model\n",
      "epoch: 3 \n",
      "Train Loss: 1.7229 \n",
      "Eval Loss: 1.9945 \n",
      "Train Acc: 0.7386 \n",
      "Eval Acc: 0.6103\n",
      "epoch: 4 \n",
      "Train Loss: 1.5761 \n",
      "Eval Loss: 4.6551 \n",
      "Train Acc: 0.7704 \n",
      "Eval Acc: 0.4472\n",
      "saved best model\n",
      "epoch: 5 \n",
      "Train Loss: 1.4800 \n",
      "Eval Loss: 2.0003 \n",
      "Train Acc: 0.7909 \n",
      "Eval Acc: 0.6461\n",
      "epoch: 6 \n",
      "Train Loss: 1.3826 \n",
      "Eval Loss: 2.0628 \n",
      "Train Acc: 0.8116 \n",
      "Eval Acc: 0.6454\n",
      "epoch: 7 \n",
      "Train Loss: 1.2485 \n",
      "Eval Loss: 2.6974 \n",
      "Train Acc: 0.8444 \n",
      "Eval Acc: 0.5963\n",
      "epoch: 8 \n",
      "Train Loss: 1.1755 \n",
      "Eval Loss: 3.1841 \n",
      "Train Acc: 0.8599 \n",
      "Eval Acc: 0.5759\n",
      "epoch: 9 \n",
      "Train Loss: 1.1062 \n",
      "Eval Loss: 3.3090 \n",
      "Train Acc: 0.8792 \n",
      "Eval Acc: 0.5791\n",
      "epoch: 10 \n",
      "Train Loss: 1.0281 \n",
      "Eval Loss: 3.3855 \n",
      "Train Acc: 0.8979 \n",
      "Eval Acc: 0.5848\n",
      "epoch: 11 \n",
      "Train Loss: 0.9718 \n",
      "Eval Loss: 2.6356 \n",
      "Train Acc: 0.9124 \n",
      "Eval Acc: 0.6404\n",
      "saved best model\n",
      "epoch: 12 \n",
      "Train Loss: 0.9300 \n",
      "Eval Loss: 2.5439 \n",
      "Train Acc: 0.9219 \n",
      "Eval Acc: 0.6577\n",
      "saved best model\n",
      "epoch: 13 \n",
      "Train Loss: 0.8697 \n",
      "Eval Loss: 2.4397 \n",
      "Train Acc: 0.9355 \n",
      "Eval Acc: 0.6691\n",
      "epoch: 14 \n",
      "Train Loss: 0.8316 \n",
      "Eval Loss: 2.8825 \n",
      "Train Acc: 0.9461 \n",
      "Eval Acc: 0.6463\n",
      "epoch: 15 \n",
      "Train Loss: 0.7957 \n",
      "Eval Loss: 2.8392 \n",
      "Train Acc: 0.9557 \n",
      "Eval Acc: 0.6563\n",
      "saved best model\n",
      "epoch: 16 \n",
      "Train Loss: 0.7618 \n",
      "Eval Loss: 2.6898 \n",
      "Train Acc: 0.9625 \n",
      "Eval Acc: 0.6793\n",
      "saved best model\n",
      "epoch: 17 \n",
      "Train Loss: 0.7218 \n",
      "Eval Loss: 2.7022 \n",
      "Train Acc: 0.9724 \n",
      "Eval Acc: 0.6888\n",
      "epoch: 18 \n",
      "Train Loss: 0.6946 \n",
      "Eval Loss: 2.9312 \n",
      "Train Acc: 0.9786 \n",
      "Eval Acc: 0.6779\n",
      "saved best model\n",
      "epoch: 19 \n",
      "Train Loss: 0.6794 \n",
      "Eval Loss: 2.4376 \n",
      "Train Acc: 0.9806 \n",
      "Eval Acc: 0.7068\n",
      "epoch: 20 \n",
      "Train Loss: 0.6663 \n",
      "Eval Loss: 2.6007 \n",
      "Train Acc: 0.9821 \n",
      "Eval Acc: 0.6920\n",
      "epoch: 21 \n",
      "Train Loss: 0.6498 \n",
      "Eval Loss: 2.7360 \n",
      "Train Acc: 0.9841 \n",
      "Eval Acc: 0.6750\n",
      "epoch: 22 \n",
      "Train Loss: 0.6310 \n",
      "Eval Loss: 2.9152 \n",
      "Train Acc: 0.9857 \n",
      "Eval Acc: 0.6554\n",
      "epoch: 23 \n",
      "Train Loss: 0.6113 \n",
      "Eval Loss: 2.7012 \n",
      "Train Acc: 0.9890 \n",
      "Eval Acc: 0.6812\n",
      "epoch: 24 \n",
      "Train Loss: 0.5977 \n",
      "Eval Loss: 2.5595 \n",
      "Train Acc: 0.9894 \n",
      "Eval Acc: 0.6867\n"
     ]
    }
   ],
   "source": [
    "import torch.nn.functional as F\n",
    "soft_loss = torch.nn.KLDivLoss(reduction=\"batchmean\")\n",
    "hard_loss = nn.CrossEntropyLoss()\n",
    "EPOCH = 25              # 训练epoch次数\n",
    "BATCH_SIZE = 1024         # 批训练的数量\n",
    "\n",
    "distill_resnet18_train_losses = []\n",
    "distill_resnet18_train_acces = []\n",
    "distill_resnet18_eval_losses = []\n",
    "distill_resnet18_eval_acces = []\n",
    "\n",
    "\n",
    "teacher_model = torch.load('cifar10_resnet50_pretrain.pt') #加载模型\n",
    "teacher_model.eval() #切换到测试模式\n",
    "\n",
    "student_model = torchvision.models.resnet18(pretrained=False)\n",
    "# MNIST数据集下载\n",
    "train_data = datasets.CIFAR10(root='./data',\n",
    "                         train=True,                         # 训练集\n",
    "                         transform=transforms.ToTensor(),    # 转换为Tensor并归一化[0~1]\n",
    "                         download=False\n",
    "                        )\n",
    "\n",
    "test_data = datasets.CIFAR10(root='./data',\n",
    "                        train=False,                         # 测试集\n",
    "                        transform=transforms.ToTensor(),     # 转换为Tensor并归一化[0~1]\n",
    "                        download=False\n",
    "                        )\n",
    "# Cifar-10的标签\n",
    "classes = ('plane', 'car', 'bird', 'cat', 'deer', 'dog', 'frog', 'horse', 'ship', 'truck')\n",
    "\n",
    "# 使用DataLoader进行分批  dataset: 传入的数据集 batch_size: 每个batch有多少个样本  shuffle: 在每个epoch开始的时候，对数据进行重新排序\n",
    "train_loader = DataLoader(dataset=train_data, batch_size=BATCH_SIZE, shuffle=False)\n",
    "test_loader = DataLoader(dataset=test_data, batch_size=BATCH_SIZE, shuffle=False)\n",
    "\n",
    "#损失函数:这里用交叉熵 = log_softmax和nll_loss的结合\n",
    "alpha = 0.3\n",
    "temp = 7\n",
    "Total_acc = 0.0\n",
    "\n",
    "#优化器 这里用SGD\n",
    "optimizer = optim.Adam(student_model.parameters(), lr=1e-3)\n",
    "\n",
    "#device : GPU or CPU\n",
    "device = torch.device(\"cuda\" if torch.cuda.is_available() else \"cpu\")\n",
    "student_model.to(device) #将模型加载到相应设备中\n",
    "\n",
    "\n",
    "for epoch in range(EPOCH):\n",
    "    start_time = time.time() #记录当前时间\n",
    "    train_loss = 0\n",
    "    train_acc = 0\n",
    "    student_model.train()\n",
    "\n",
    "    for i, data in enumerate(train_loader, start=0):\n",
    "        # data里面包含图像数据（inputs）(tensor类型的）和标签（labels）(tensor类型）。\n",
    "        inputs, labels = data\n",
    "        # 将数据加载到相应设备中\n",
    "        inputs, labels = inputs.to(device), labels.to(device)\n",
    "\n",
    "        with torch.no_grad():\n",
    "            teacher_outputs = teacher_model(inputs)\n",
    "\n",
    "        # 前向传播\n",
    "        student_outputs = student_model(inputs)\n",
    "        # 计算损失函数\n",
    "        student_loss = hard_loss(student_outputs, labels)\n",
    "\n",
    "        distillation_loss = F.kl_div(F.log_softmax(student_outputs / temp, dim=1), F.softmax(teacher_outputs / temp, dim=1), reduction='batchmean') * temp * temp\n",
    "\n",
    "        loss = alpha * student_loss + (1-alpha) * distillation_loss\n",
    "\n",
    "        # 清空上一轮梯度\n",
    "        optimizer.zero_grad()\n",
    "        # 反向传播\n",
    "        loss.backward()\n",
    "        # 参数更新\n",
    "        optimizer.step()\n",
    "\n",
    "        train_loss += loss.item()\n",
    "\n",
    "        _, predicted = torch.max(student_outputs.data, 1)\n",
    "        total += labels.size(0)\n",
    "        num_correct = (predicted == labels).sum().item()\n",
    "        acc = num_correct / inputs.shape[0]\n",
    "        train_acc += acc\n",
    "\n",
    "\n",
    "    distill_resnet18_train_losses.append(train_loss / len(train_loader))\n",
    "    distill_resnet18_train_acces.append(train_acc / len(train_loader))\n",
    "\n",
    "    student_model.eval() #切换到测试模式\n",
    "    eval_loss = 0\n",
    "    eval_acc = 0\n",
    "\n",
    "    for data in test_loader:\n",
    "        images, labels = data\n",
    "        images, labels = images.to(device), labels.to(device)\n",
    "        # 前向传播\n",
    "        out = student_model(images)\n",
    "        loss = hard_loss(out, labels)\n",
    "        eval_loss += loss.item()\n",
    "        # 求出预测值索引  torch.max(input, dim) dim=1，行最大值\n",
    "        _, predicted = torch.max(out.data, 1)\n",
    "        num_correct = (predicted == labels).sum().item()\n",
    "        acc = num_correct / images.shape[0]\n",
    "        eval_acc += acc\n",
    "    \n",
    "    \n",
    "    distill_resnet18_eval_losses.append(eval_loss/len(test_loader))\n",
    "    distill_resnet18_eval_acces.append((eval_acc/len(test_loader)))\n",
    "    #保存训练模型\n",
    "    if eval_acc > Total_acc:\n",
    "        torch.save(student_model, 'distill_resnet18.pt')\n",
    "        print(\"saved best model\")\n",
    "        Total_acc = eval_acc\n",
    "\n",
    "    print('epoch: {} \\nTrain Loss: {:.4f} \\nEval Loss: {:.4f} \\nTrain Acc: {:.4f} \\nEval Acc: {:.4f}'\n",
    "          .format(epoch, \n",
    "                  train_loss / len(train_loader), \n",
    "                  eval_loss / len(test_loader), \n",
    "                  train_acc / len(train_loader),\n",
    "                  eval_acc / len(test_loader)))\n",
    "\n"
   ]
  },
  {
   "cell_type": "markdown",
   "id": "6c2d4464-050c-44b5-91f8-67782f1edf44",
   "metadata": {},
   "source": [
    "#### 测试模型"
   ]
  },
  {
   "cell_type": "code",
   "execution_count": 49,
   "id": "mTl5UYPl2D67",
   "metadata": {
    "colab": {
     "base_uri": "https://localhost:8080/"
    },
    "id": "mTl5UYPl2D67",
    "outputId": "4df9289e-03e7-4193-a114-b5e8de97ca11"
   },
   "outputs": [
    {
     "name": "stdout",
     "output_type": "stream",
     "text": [
      "10000测试图像 准确率:70.7400%\n"
     ]
    }
   ],
   "source": [
    "# 测试\n",
    "model = torch.load('distill_resnet18.pt') #加载模型\n",
    "model.eval() #切换到测试模式\n",
    "\n",
    "correct = 0\n",
    "total = 0\n",
    "\n",
    "for data in test_loader:\n",
    "    images, labels = data\n",
    "    images, labels = images.to(device), labels.to(device)\n",
    "    # 前向传播\n",
    "    out = model(images)\n",
    "    # 求出预测值索引  torch.max(input, dim) dim=1，行最大值\n",
    "    _, predicted = torch.max(out.data, 1)\n",
    "    total += labels.size(0)\n",
    "    correct += (predicted == labels).sum().item()\n",
    "\n",
    "#输出识别准确率\n",
    "print('10000测试图像 准确率:{:.4f}%'.format(100 * correct / total))"
   ]
  },
  {
   "cell_type": "markdown",
   "id": "6d31a305-8e36-4a74-8ca3-9987505bdbea",
   "metadata": {},
   "source": [
    "#### 绘图"
   ]
  },
  {
   "cell_type": "code",
   "execution_count": 62,
   "id": "KwsdfmCx5RWd",
   "metadata": {
    "colab": {
     "base_uri": "https://localhost:8080/",
     "height": 295
    },
    "id": "KwsdfmCx5RWd",
    "outputId": "12a04d6d-83ac-4712-cefa-b60712c48b08"
   },
   "outputs": [
    {
     "data": {
      "image/png": "[encoded data removed]",
      "text/plain": [
       "<Figure size 432x288 with 1 Axes>"
      ]
     },
     "metadata": {
      "needs_background": "light"
     },
     "output_type": "display_data"
    }
   ],
   "source": [
    "plt.plot(np.arange(len(distill_resnet18_eval_acces)), distill_resnet18_eval_acces, label=\"Distill Resnet18 Acc\")\n",
    "plt.plot(np.arange(len(resnet18_eval_acces)), resnet18_eval_acces, label=\"Resnet18 Acc\")\n",
    "plt.legend() #显示图例\n",
    "plt.xlabel('epoch')\n",
    "plt.title('Model Accuracy')\n",
    "plt.savefig(\"./Distill_Resnet18_Accuracy(Pretrained).jpg\")"
   ]
  },
  {
   "cell_type": "code",
   "execution_count": 61,
   "id": "UR8fXl_BRTup",
   "metadata": {
    "colab": {
     "base_uri": "https://localhost:8080/",
     "height": 295
    },
    "id": "UR8fXl_BRTup",
    "outputId": "ecb1a1d7-89ad-443e-b61c-4435a88358f9"
   },
   "outputs": [
    {
     "data": {
      "image/png": "[encoded data removed]",
      "text/plain": [
       "<Figure size 432x288 with 1 Axes>"
      ]
     },
     "metadata": {
      "needs_background": "light"
     },
     "output_type": "display_data"
    }
   ],
   "source": [
    "plt.plot(np.arange(len(distill_resnet18_eval_losses)), distill_resnet18_eval_losses, label=\"Distill Resnet18 Loss\")\n",
    "plt.plot(np.arange(len(resnet18_eval_losses)), resnet18_eval_losses, label=\"Resnet18 Loss\")\n",
    "plt.legend() #显示图例\n",
    "plt.xlabel('epoch')\n",
    "plt.title('Model Loss')\n",
    "plt.savefig(\"./Distill_Resnet18_loss(Pretrained).jpg\")"
   ]
  },
  {
   "cell_type": "code",
   "execution_count": null,
   "id": "L9jl4M1RQozc",
   "metadata": {
    "id": "L9jl4M1RQozc"
   },
   "outputs": [],
   "source": []
  }
 ],
 "metadata": {
  "accelerator": "GPU",
  "colab": {
   "collapsed_sections": [],
   "machine_shape": "hm",
   "name": "main.ipynb",
   "provenance": []
  },
  "gpuClass": "standard",
  "kernelspec": {
   "display_name": "Python 3 (ipykernel)",
   "language": "python",
   "name": "python3"
  },
  "language_info": {
   "codemirror_mode": {
    "name": "ipython",
    "version": 3
   },
   "file_extension": ".py",
   "mimetype": "text/x-python",
   "name": "python",
   "nbconvert_exporter": "python",
   "pygments_lexer": "ipython3",
   "version": "3.8.13"
  },
  "widgets": {
   "application/vnd.jupyter.widget-state+json": {
    "state": {},
    "version_major": 2,
    "version_minor": 0
   }
  }
 },
 "nbformat": 4,
 "nbformat_minor": 5
}
